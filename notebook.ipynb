{
 "cells": [
  {
   "cell_type": "markdown",
   "id": "937f27ec",
   "metadata": {},
   "source": [
    "# Notebook\n"
   ]
  },
  {
   "cell_type": "markdown",
   "id": "cbf3f7e2",
   "metadata": {},
   "source": [
    "### 1- Introduction\n"
   ]
  },
  {
   "cell_type": "markdown",
   "id": "b189200b",
   "metadata": {},
   "source": [
    "#### Python / R / SQL"
   ]
  },
  {
   "cell_type": "markdown",
   "id": "d4b5079b",
   "metadata": {},
   "source": [
    "#### Matplotlib / Pandas / Scikit-learn / Keras / Tensorflow"
   ]
  },
  {
   "cell_type": "markdown",
   "id": "8e1498ed",
   "metadata": {},
   "source": [
    "| Tool          | Description                                  |\n",
    "|---------------|----------------------------------------------|\n",
    "| Jupyter       | Interactive computing environment            |\n",
    "| RStudio       | Integrated development environment for R     |\n",
    "| Apache Spark  | Unified analytics engine for big data        |\n",
    "| TensorFlow    | Open-source machine learning framework       |\n",
    "| Tableau       | Data visualization software                  |"
   ]
  },
  {
   "cell_type": "markdown",
   "id": "ccc5c1d8",
   "metadata": {},
   "source": [
    "#### Arithmetic Expression Examples\n",
    "\n",
    "Arithmetic expressions are used to perform mathematical operations such as addition, subtraction, multiplication, and division. Here are some examples:\n",
    "* Addition: `2 + 3`\n",
    "* Subtraction: `5 - 2`\n",
    "* Multiplication: `4 * 3`\n",
    "* Division: `10 / 2`"
   ]
  },
  {
   "cell_type": "code",
   "execution_count": 7,
   "id": "7b9f6798",
   "metadata": {},
   "outputs": [
    {
     "data": {
      "text/plain": [
       "(15, 8)"
      ]
     },
     "execution_count": 7,
     "metadata": {},
     "output_type": "execute_result"
    }
   ],
   "source": [
    "# Multiplication and addition of numbers\n",
    "a = 5\n",
    "b = 3\n",
    "multiplication_result = a * b\n",
    "\n",
    "addition_result = a + b\n",
    "\n",
    "multiplication_result, addition_result"
   ]
  },
  {
   "cell_type": "code",
   "execution_count": 8,
   "id": "31df8c3a",
   "metadata": {},
   "outputs": [
    {
     "data": {
      "text/plain": [
       "2.0"
      ]
     },
     "execution_count": 8,
     "metadata": {},
     "output_type": "execute_result"
    }
   ],
   "source": [
    "# Convert minutes to hours\n",
    "minutes = 120\n",
    "hours = minutes / 60\n",
    "\n",
    "hours"
   ]
  },
  {
   "cell_type": "markdown",
   "id": "9dd38d13",
   "metadata": {},
   "source": [
    "### Objectives\n",
    "\n",
    "- Listdata science tools\n",
    "- Create and manipulate markdown cells\n",
    "- Perform basic arithmetic operations in code cells\n",
    "- Convert units from minutes to hours\n",
    "- Share and document work through GitHub\n"
   ]
  },
  {
   "cell_type": "markdown",
   "id": "577b5313",
   "metadata": {},
   "source": [
    "### Author\n",
    "\n",
    "Mohammad Youssef"
   ]
  },
  {
   "cell_type": "code",
   "execution_count": null,
   "id": "56ec953b",
   "metadata": {},
   "outputs": [],
   "source": []
  }
 ],
 "metadata": {
  "kernelspec": {
   "display_name": "Python 3 (ipykernel)",
   "language": "python",
   "name": "python3"
  },
  "language_info": {
   "codemirror_mode": {
    "name": "ipython",
    "version": 3
   },
   "file_extension": ".py",
   "mimetype": "text/x-python",
   "name": "python",
   "nbconvert_exporter": "python",
   "pygments_lexer": "ipython3",
   "version": "3.11.7"
  }
 },
 "nbformat": 4,
 "nbformat_minor": 5
}
