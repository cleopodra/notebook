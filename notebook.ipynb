{
 "cells": [
  {
   "cell_type": "markdown",
   "id": "ec86dada",
   "metadata": {},
   "source": [
    "# Notebook\n"
   ]
  },
  {
   "cell_type": "markdown",
   "id": "0fc5c341",
   "metadata": {},
   "source": [
    "### 1- Introduction\n",
    "this is a peer-graded assignment for Ibm Data Science course\n"
   ]
  },
  {
   "cell_type": "markdown",
   "id": "5f92f422",
   "metadata": {},
   "source": [
    "#### Data science languages\n",
    " Python / R / SQL"
   ]
  },
  {
   "cell_type": "markdown",
   "id": "e46418f4",
   "metadata": {},
   "source": [
    "#### Matplotlib / Pandas / Scikit-learn / Keras / Tensorflow"
   ]
  },
  {
   "cell_type": "markdown",
   "id": "93e5c90a",
   "metadata": {},
   "source": [
    "| Tool          | Description                                  |\n",
    "|---------------|----------------------------------------------|\n",
    "| Jupyter       | Interactive computing environment            |\n",
    "| RStudio       | Integrated development environment for R     |\n",
    "| Apache Spark  | Unified analytics engine for big data        |\n",
    "| Tableau       | Data visualization software                  |"
   ]
  },
  {
   "cell_type": "markdown",
   "id": "22a6d370",
   "metadata": {},
   "source": [
    "#### Arithmetic Expression Examples\n",
    "\n",
    "Arithmetic expressions are used to perform mathematical operations such as addition, subtraction, multiplication, and division. Here are some examples:\n",
    "* Addition: `2 + 3`\n",
    "* Subtraction: `5 - 2`\n",
    "* Multiplication: `4 * 3`\n",
    "* Division: `10 / 2`"
   ]
  },
  {
   "cell_type": "code",
   "execution_count": 7,
   "id": "06ac0178",
   "metadata": {},
   "outputs": [
    {
     "data": {
      "text/plain": [
       "(15, 8)"
      ]
     },
     "execution_count": 7,
     "metadata": {},
     "output_type": "execute_result"
    }
   ],
   "source": [
    "# Multiplication and addition of numbers\n",
    "a = 5\n",
    "b = 3\n",
    "multiplication_result = a * b\n",
    "\n",
    "addition_result = a + b\n",
    "\n",
    "multiplication_result, addition_result"
   ]
  },
  {
   "cell_type": "code",
   "execution_count": 8,
   "id": "4d86528d",
   "metadata": {},
   "outputs": [
    {
     "data": {
      "text/plain": [
       "2.0"
      ]
     },
     "execution_count": 8,
     "metadata": {},
     "output_type": "execute_result"
    }
   ],
   "source": [
    "# Convert minutes to hours\n",
    "minutes = 120\n",
    "hours = minutes / 60\n",
    "\n",
    "hours"
   ]
  },
  {
   "cell_type": "markdown",
   "id": "e933b6b7",
   "metadata": {},
   "source": [
    "### Objectives\n",
    "\n",
    "- Listdata science tools\n",
    "- Create and manipulate markdown cells\n",
    "- Perform basic arithmetic operations in code cells\n",
    "- Convert units from minutes to hours\n",
    "- Share and document work through GitHub\n"
   ]
  },
  {
   "cell_type": "markdown",
   "id": "1cdb9f4a",
   "metadata": {},
   "source": [
    "### Author\n",
    "\n",
    "Mohammad Youssef"
   ]
  },
  {
   "cell_type": "code",
   "execution_count": null,
   "id": "641c5cea",
   "metadata": {},
   "outputs": [],
   "source": []
  }
 ],
 "metadata": {
  "kernelspec": {
   "display_name": "Python 3 (ipykernel)",
   "language": "python",
   "name": "python3"
  },
  "language_info": {
   "codemirror_mode": {
    "name": "ipython",
    "version": 3
   },
   "file_extension": ".py",
   "mimetype": "text/x-python",
   "name": "python",
   "nbconvert_exporter": "python",
   "pygments_lexer": "ipython3",
   "version": "3.11.7"
  }
 },
 "nbformat": 4,
 "nbformat_minor": 5
}
